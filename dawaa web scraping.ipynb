{
 "cells": [
  {
   "cell_type": "code",
   "execution_count": 1,
   "id": "55124929",
   "metadata": {},
   "outputs": [],
   "source": [
    "# get all sub categories links from navigation panel  -- done\n",
    "# split sub categories links into multiple categories --done\n",
    "# gather urls for the products in the category       -- done\n",
    "# parse product by product into fuction and return dict uing concurrent\n",
    "# save all products in one excel file per category "
   ]
  },
  {
   "cell_type": "code",
   "execution_count": 36,
   "id": "34f53f49",
   "metadata": {},
   "outputs": [],
   "source": [
    "import os\n",
    "import re\n",
    "import pandas as pd\n",
    "import requests\n",
    "import time\n",
    "from bs4 import BeautifulSoup\n",
    "import concurrent\n",
    "import urllib.request\n",
    "import re\n",
    "import shutil\n",
    "base_ar='https://www.al-dawaa.com/arabic/'\n",
    "base_en='https://www.al-dawaa.com/english/'"
   ]
  },
  {
   "cell_type": "markdown",
   "id": "403f5a65",
   "metadata": {},
   "source": [
    "## collect all sub categories links"
   ]
  },
  {
   "cell_type": "code",
   "execution_count": 37,
   "id": "aebc8a9e",
   "metadata": {},
   "outputs": [
    {
     "name": "stdout",
     "output_type": "stream",
     "text": [
      "92\n",
      "category numbr=  1\n",
      "sub_cat number=  4\n",
      "category numbr=  2\n",
      "sub_cat number=  4\n",
      "category numbr=  3\n",
      "sub_cat number=  2\n",
      "category numbr=  4\n",
      "sub_cat number=  3\n",
      "category numbr=  5\n",
      "sub_cat number=  4\n",
      "category numbr=  6\n",
      "sub_cat number=  3\n",
      "category numbr=  7\n",
      "sub_cat number=  4\n",
      "category numbr=  8\n",
      "sub_cat number=  4\n",
      "category numbr=  9\n",
      "sub_cat number=  2\n",
      "category numbr=  10\n",
      "sub_cat number=  3\n",
      "category numbr=  11\n",
      "sub_cat number=  2\n",
      "category numbr=  12\n",
      "sub_cat number=  11\n",
      "category numbr=  13\n",
      "sub_cat number=  6\n",
      "category numbr=  14\n",
      "sub_cat number=  8\n",
      "category numbr=  15\n",
      "sub_cat number=  2\n",
      "category numbr=  16\n",
      "sub_cat number=  11\n",
      "category numbr=  17\n",
      "sub_cat number=  9\n",
      "category numbr=  18\n",
      "sub_cat number=  4\n",
      "category numbr=  19\n",
      "sub_cat number=  5\n",
      "category numbr=  20\n",
      "sub_cat number=  7\n",
      "category numbr=  21\n",
      "sub_cat number=  2\n",
      "category numbr=  22\n",
      "sub_cat number=  6\n",
      "category numbr=  23\n",
      "sub_cat number=  4\n",
      "category numbr=  24\n",
      "sub_cat number=  4\n",
      "category numbr=  25\n",
      "sub_cat number=  20\n",
      "category numbr=  26\n",
      "sub_cat number=  2\n",
      "category numbr=  27\n",
      "sub_cat number=  9\n",
      "category numbr=  28\n",
      "sub_cat number=  10\n",
      "category numbr=  29\n",
      "sub_cat number=  20\n",
      "category numbr=  30\n",
      "sub_cat number=  5\n",
      "category numbr=  31\n",
      "sub_cat number=  3\n",
      "category numbr=  32\n",
      "sub_cat number=  5\n",
      "category numbr=  33\n",
      "sub_cat number=  5\n",
      "category numbr=  34\n",
      "sub_cat number=  3\n",
      "category numbr=  35\n",
      "sub_cat number=  1\n",
      "category numbr=  36\n",
      "sub_cat number=  5\n",
      "category numbr=  37\n",
      "sub_cat number=  20\n",
      "category numbr=  38\n",
      "sub_cat number=  8\n",
      "category numbr=  39\n",
      "sub_cat number=  3\n",
      "category numbr=  40\n",
      "sub_cat number=  3\n",
      "category numbr=  41\n",
      "sub_cat number=  1\n",
      "category numbr=  42\n",
      "sub_cat number=  4\n",
      "category numbr=  43\n",
      "sub_cat number=  8\n",
      "category numbr=  44\n",
      "sub_cat number=  1\n",
      "category numbr=  45\n",
      "sub_cat number=  1\n",
      "category numbr=  46\n",
      "sub_cat number=  3\n",
      "category numbr=  47\n",
      "sub_cat number=  4\n",
      "category numbr=  48\n",
      "sub_cat number=  4\n",
      "category numbr=  49\n",
      "sub_cat number=  2\n",
      "category numbr=  50\n",
      "sub_cat number=  3\n",
      "category numbr=  51\n",
      "sub_cat number=  4\n",
      "category numbr=  52\n",
      "sub_cat number=  3\n",
      "category numbr=  53\n",
      "sub_cat number=  4\n",
      "category numbr=  54\n",
      "sub_cat number=  4\n",
      "category numbr=  55\n",
      "sub_cat number=  2\n",
      "category numbr=  56\n",
      "sub_cat number=  3\n",
      "category numbr=  57\n",
      "sub_cat number=  2\n",
      "category numbr=  58\n",
      "sub_cat number=  11\n",
      "category numbr=  59\n",
      "sub_cat number=  6\n",
      "category numbr=  60\n",
      "sub_cat number=  8\n",
      "category numbr=  61\n",
      "sub_cat number=  2\n",
      "category numbr=  62\n",
      "sub_cat number=  11\n",
      "category numbr=  63\n",
      "sub_cat number=  9\n",
      "category numbr=  64\n",
      "sub_cat number=  4\n",
      "category numbr=  65\n",
      "sub_cat number=  5\n",
      "category numbr=  66\n",
      "sub_cat number=  7\n",
      "category numbr=  67\n",
      "sub_cat number=  2\n",
      "category numbr=  68\n",
      "sub_cat number=  6\n",
      "category numbr=  69\n",
      "sub_cat number=  4\n",
      "category numbr=  70\n",
      "sub_cat number=  4\n",
      "category numbr=  71\n",
      "sub_cat number=  20\n",
      "category numbr=  72\n",
      "sub_cat number=  2\n",
      "category numbr=  73\n",
      "sub_cat number=  9\n",
      "category numbr=  74\n",
      "sub_cat number=  10\n",
      "category numbr=  75\n",
      "sub_cat number=  20\n",
      "category numbr=  76\n",
      "sub_cat number=  5\n",
      "category numbr=  77\n",
      "sub_cat number=  3\n",
      "category numbr=  78\n",
      "sub_cat number=  5\n",
      "category numbr=  79\n",
      "sub_cat number=  5\n",
      "category numbr=  80\n",
      "sub_cat number=  3\n",
      "category numbr=  81\n",
      "sub_cat number=  1\n",
      "category numbr=  82\n",
      "sub_cat number=  5\n",
      "category numbr=  83\n",
      "sub_cat number=  20\n",
      "category numbr=  84\n",
      "sub_cat number=  8\n",
      "category numbr=  85\n",
      "sub_cat number=  3\n",
      "category numbr=  86\n",
      "sub_cat number=  3\n",
      "category numbr=  87\n",
      "sub_cat number=  1\n",
      "category numbr=  88\n",
      "sub_cat number=  4\n",
      "category numbr=  89\n",
      "sub_cat number=  8\n",
      "category numbr=  90\n",
      "sub_cat number=  1\n",
      "category numbr=  91\n",
      "sub_cat number=  1\n",
      "category numbr=  92\n",
      "sub_cat number=  3\n"
     ]
    }
   ],
   "source": [
    "r=requests.get('https://www.al-dawaa.com/english/')\n",
    "soup = BeautifulSoup(r.text,'html.parser')\n",
    "\n",
    "urls=soup.find_all('ul',class_='ammenu-item -child')\n",
    "print(len(urls))\n",
    "cat_num = 0\n",
    "links_list=[]\n",
    "for url in urls:\n",
    "    cat_num +=1\n",
    "    sub_cat=len(url.find_all('li'))\n",
    "    \n",
    "    print(\"category numbr= \",cat_num)\n",
    "    print('sub_cat number= ',sub_cat)\n",
    "    for x in url.find_all('li'):\n",
    "        link=x.find('a')\n",
    "        links=dict(\n",
    "            sub_sub_category = x.text.strip(),\n",
    "            link=link.attrs['href']\n",
    "        )\n",
    "        links_list.append(links)\n",
    "#         print(x.text,link.attrs['href'])\n"
   ]
  },
  {
   "cell_type": "code",
   "execution_count": 38,
   "id": "58bbe949",
   "metadata": {},
   "outputs": [],
   "source": [
    "df=pd.DataFrame(links_list)"
   ]
  },
  {
   "cell_type": "code",
   "execution_count": 39,
   "id": "f587002b",
   "metadata": {},
   "outputs": [],
   "source": [
    "df.drop_duplicates(keep='first',inplace=True)"
   ]
  },
  {
   "cell_type": "code",
   "execution_count": 40,
   "id": "1dab9187",
   "metadata": {
    "scrolled": true
   },
   "outputs": [
    {
     "name": "stdout",
     "output_type": "stream",
     "text": [
      "<class 'pandas.core.frame.DataFrame'>\n",
      "Int64Index: 254 entries, 0 to 253\n",
      "Data columns (total 2 columns):\n",
      " #   Column            Non-Null Count  Dtype \n",
      "---  ------            --------------  ----- \n",
      " 0   sub_sub_category  254 non-null    object\n",
      " 1   link              254 non-null    object\n",
      "dtypes: object(2)\n",
      "memory usage: 6.0+ KB\n"
     ]
    }
   ],
   "source": [
    "df.info()"
   ]
  },
  {
   "cell_type": "code",
   "execution_count": 41,
   "id": "7ab59b98",
   "metadata": {},
   "outputs": [
    {
     "data": {
      "text/html": [
       "<div>\n",
       "<style scoped>\n",
       "    .dataframe tbody tr th:only-of-type {\n",
       "        vertical-align: middle;\n",
       "    }\n",
       "\n",
       "    .dataframe tbody tr th {\n",
       "        vertical-align: top;\n",
       "    }\n",
       "\n",
       "    .dataframe thead th {\n",
       "        text-align: right;\n",
       "    }\n",
       "</style>\n",
       "<table border=\"1\" class=\"dataframe\">\n",
       "  <thead>\n",
       "    <tr style=\"text-align: right;\">\n",
       "      <th></th>\n",
       "      <th>sub_sub_category</th>\n",
       "      <th>link</th>\n",
       "    </tr>\n",
       "  </thead>\n",
       "  <tbody>\n",
       "    <tr>\n",
       "      <th>0</th>\n",
       "      <td>Taped Diapers</td>\n",
       "      <td>https://www.al-dawaa.com/english/mom-and-baby-...</td>\n",
       "    </tr>\n",
       "    <tr>\n",
       "      <th>1</th>\n",
       "      <td>Changing Time</td>\n",
       "      <td>https://www.al-dawaa.com/english/mom-and-baby-...</td>\n",
       "    </tr>\n",
       "    <tr>\n",
       "      <th>2</th>\n",
       "      <td>Pants Diapers</td>\n",
       "      <td>https://www.al-dawaa.com/english/mom-and-baby-...</td>\n",
       "    </tr>\n",
       "    <tr>\n",
       "      <th>3</th>\n",
       "      <td>Potty Training</td>\n",
       "      <td>https://www.al-dawaa.com/english/mom-and-baby-...</td>\n",
       "    </tr>\n",
       "    <tr>\n",
       "      <th>4</th>\n",
       "      <td>Baby Milk</td>\n",
       "      <td>https://www.al-dawaa.com/english/mom-and-baby-...</td>\n",
       "    </tr>\n",
       "  </tbody>\n",
       "</table>\n",
       "</div>"
      ],
      "text/plain": [
       "  sub_sub_category                                               link\n",
       "0    Taped Diapers  https://www.al-dawaa.com/english/mom-and-baby-...\n",
       "1    Changing Time  https://www.al-dawaa.com/english/mom-and-baby-...\n",
       "2    Pants Diapers  https://www.al-dawaa.com/english/mom-and-baby-...\n",
       "3   Potty Training  https://www.al-dawaa.com/english/mom-and-baby-...\n",
       "4        Baby Milk  https://www.al-dawaa.com/english/mom-and-baby-..."
      ]
     },
     "execution_count": 41,
     "metadata": {},
     "output_type": "execute_result"
    }
   ],
   "source": [
    "df.head()"
   ]
  },
  {
   "cell_type": "code",
   "execution_count": 42,
   "id": "15655ebd",
   "metadata": {},
   "outputs": [
    {
     "name": "stdout",
     "output_type": "stream",
     "text": [
      "https://www.al-dawaa.com/english/mom-and-baby-care/baby-diapers-potty-training/taped-diapers\n"
     ]
    }
   ],
   "source": [
    "print(df['link'][0])"
   ]
  },
  {
   "cell_type": "code",
   "execution_count": 43,
   "id": "9cc913da",
   "metadata": {},
   "outputs": [],
   "source": [
    "df['category'] = df['link'].apply(lambda x : x.split('/')[4])"
   ]
  },
  {
   "cell_type": "code",
   "execution_count": 44,
   "id": "e5ac04d7",
   "metadata": {},
   "outputs": [
    {
     "data": {
      "text/plain": [
       "'mom-and-baby-care'"
      ]
     },
     "execution_count": 44,
     "metadata": {},
     "output_type": "execute_result"
    }
   ],
   "source": [
    "df['link'][0].split('/')[4]"
   ]
  },
  {
   "cell_type": "code",
   "execution_count": 45,
   "id": "68d09d3c",
   "metadata": {},
   "outputs": [],
   "source": [
    "df['sub_category'] = df['link'].apply(lambda x : x.split('/')[5])"
   ]
  },
  {
   "cell_type": "code",
   "execution_count": 46,
   "id": "1e162c40",
   "metadata": {},
   "outputs": [
    {
     "data": {
      "text/html": [
       "<div>\n",
       "<style scoped>\n",
       "    .dataframe tbody tr th:only-of-type {\n",
       "        vertical-align: middle;\n",
       "    }\n",
       "\n",
       "    .dataframe tbody tr th {\n",
       "        vertical-align: top;\n",
       "    }\n",
       "\n",
       "    .dataframe thead th {\n",
       "        text-align: right;\n",
       "    }\n",
       "</style>\n",
       "<table border=\"1\" class=\"dataframe\">\n",
       "  <thead>\n",
       "    <tr style=\"text-align: right;\">\n",
       "      <th></th>\n",
       "      <th>sub_sub_category</th>\n",
       "      <th>link</th>\n",
       "      <th>category</th>\n",
       "      <th>sub_category</th>\n",
       "    </tr>\n",
       "  </thead>\n",
       "  <tbody>\n",
       "    <tr>\n",
       "      <th>0</th>\n",
       "      <td>Taped Diapers</td>\n",
       "      <td>https://www.al-dawaa.com/english/mom-and-baby-...</td>\n",
       "      <td>mom-and-baby-care</td>\n",
       "      <td>baby-diapers-potty-training</td>\n",
       "    </tr>\n",
       "    <tr>\n",
       "      <th>1</th>\n",
       "      <td>Changing Time</td>\n",
       "      <td>https://www.al-dawaa.com/english/mom-and-baby-...</td>\n",
       "      <td>mom-and-baby-care</td>\n",
       "      <td>baby-diapers-potty-training</td>\n",
       "    </tr>\n",
       "    <tr>\n",
       "      <th>2</th>\n",
       "      <td>Pants Diapers</td>\n",
       "      <td>https://www.al-dawaa.com/english/mom-and-baby-...</td>\n",
       "      <td>mom-and-baby-care</td>\n",
       "      <td>baby-diapers-potty-training</td>\n",
       "    </tr>\n",
       "    <tr>\n",
       "      <th>3</th>\n",
       "      <td>Potty Training</td>\n",
       "      <td>https://www.al-dawaa.com/english/mom-and-baby-...</td>\n",
       "      <td>mom-and-baby-care</td>\n",
       "      <td>baby-diapers-potty-training</td>\n",
       "    </tr>\n",
       "    <tr>\n",
       "      <th>4</th>\n",
       "      <td>Baby Milk</td>\n",
       "      <td>https://www.al-dawaa.com/english/mom-and-baby-...</td>\n",
       "      <td>mom-and-baby-care</td>\n",
       "      <td>baby-feeding</td>\n",
       "    </tr>\n",
       "  </tbody>\n",
       "</table>\n",
       "</div>"
      ],
      "text/plain": [
       "  sub_sub_category                                               link  \\\n",
       "0    Taped Diapers  https://www.al-dawaa.com/english/mom-and-baby-...   \n",
       "1    Changing Time  https://www.al-dawaa.com/english/mom-and-baby-...   \n",
       "2    Pants Diapers  https://www.al-dawaa.com/english/mom-and-baby-...   \n",
       "3   Potty Training  https://www.al-dawaa.com/english/mom-and-baby-...   \n",
       "4        Baby Milk  https://www.al-dawaa.com/english/mom-and-baby-...   \n",
       "\n",
       "            category                 sub_category  \n",
       "0  mom-and-baby-care  baby-diapers-potty-training  \n",
       "1  mom-and-baby-care  baby-diapers-potty-training  \n",
       "2  mom-and-baby-care  baby-diapers-potty-training  \n",
       "3  mom-and-baby-care  baby-diapers-potty-training  \n",
       "4  mom-and-baby-care                 baby-feeding  "
      ]
     },
     "execution_count": 46,
     "metadata": {},
     "output_type": "execute_result"
    }
   ],
   "source": [
    "df.head()"
   ]
  },
  {
   "cell_type": "code",
   "execution_count": 47,
   "id": "bcc64ce2",
   "metadata": {
    "scrolled": false
   },
   "outputs": [
    {
     "data": {
      "text/html": [
       "<div>\n",
       "<style scoped>\n",
       "    .dataframe tbody tr th:only-of-type {\n",
       "        vertical-align: middle;\n",
       "    }\n",
       "\n",
       "    .dataframe tbody tr th {\n",
       "        vertical-align: top;\n",
       "    }\n",
       "\n",
       "    .dataframe thead th {\n",
       "        text-align: right;\n",
       "    }\n",
       "</style>\n",
       "<table border=\"1\" class=\"dataframe\">\n",
       "  <thead>\n",
       "    <tr style=\"text-align: right;\">\n",
       "      <th></th>\n",
       "      <th>sub_sub_category</th>\n",
       "      <th>link</th>\n",
       "      <th>sub_category</th>\n",
       "    </tr>\n",
       "    <tr>\n",
       "      <th>category</th>\n",
       "      <th></th>\n",
       "      <th></th>\n",
       "      <th></th>\n",
       "    </tr>\n",
       "  </thead>\n",
       "  <tbody>\n",
       "    <tr>\n",
       "      <th>beauty-care2</th>\n",
       "      <td>49</td>\n",
       "      <td>49</td>\n",
       "      <td>49</td>\n",
       "    </tr>\n",
       "    <tr>\n",
       "      <th>health-wellness</th>\n",
       "      <td>1</td>\n",
       "      <td>1</td>\n",
       "      <td>1</td>\n",
       "    </tr>\n",
       "    <tr>\n",
       "      <th>health-wellness2</th>\n",
       "      <td>65</td>\n",
       "      <td>65</td>\n",
       "      <td>65</td>\n",
       "    </tr>\n",
       "    <tr>\n",
       "      <th>medicine-treatments</th>\n",
       "      <td>42</td>\n",
       "      <td>42</td>\n",
       "      <td>42</td>\n",
       "    </tr>\n",
       "    <tr>\n",
       "      <th>mom-and-baby-care</th>\n",
       "      <td>24</td>\n",
       "      <td>24</td>\n",
       "      <td>24</td>\n",
       "    </tr>\n",
       "    <tr>\n",
       "      <th>personal-care</th>\n",
       "      <td>41</td>\n",
       "      <td>41</td>\n",
       "      <td>41</td>\n",
       "    </tr>\n",
       "    <tr>\n",
       "      <th>vitamins-supplements</th>\n",
       "      <td>32</td>\n",
       "      <td>32</td>\n",
       "      <td>32</td>\n",
       "    </tr>\n",
       "  </tbody>\n",
       "</table>\n",
       "</div>"
      ],
      "text/plain": [
       "                      sub_sub_category  link  sub_category\n",
       "category                                                  \n",
       "beauty-care2                        49    49            49\n",
       "health-wellness                      1     1             1\n",
       "health-wellness2                    65    65            65\n",
       "medicine-treatments                 42    42            42\n",
       "mom-and-baby-care                   24    24            24\n",
       "personal-care                       41    41            41\n",
       "vitamins-supplements                32    32            32"
      ]
     },
     "execution_count": 47,
     "metadata": {},
     "output_type": "execute_result"
    }
   ],
   "source": [
    "df.groupby('category').count()"
   ]
  },
  {
   "cell_type": "markdown",
   "id": "86eb426c",
   "metadata": {},
   "source": [
    "## replace some sub category to its real category "
   ]
  },
  {
   "cell_type": "code",
   "execution_count": 48,
   "id": "d505fbea",
   "metadata": {},
   "outputs": [],
   "source": [
    "# Try using .loc[row_indexer,col_indexer] = value instead\n",
    "#df[df['category']=='health-wellness']['category']\n",
    "df.iloc[134,2]='health-wellness2'"
   ]
  },
  {
   "cell_type": "code",
   "execution_count": 49,
   "id": "49cb10de",
   "metadata": {},
   "outputs": [],
   "source": [
    "# x=str(df.iloc[110]['link'])\n",
    "# print(x)\n",
    "df.iloc[110,2]='personal-care'"
   ]
  },
  {
   "cell_type": "code",
   "execution_count": 50,
   "id": "73d597af",
   "metadata": {
    "scrolled": true
   },
   "outputs": [
    {
     "data": {
      "text/plain": [
       "sub_sub_category                                      Beauty Bar Soap\n",
       "link                https://www.al-dawaa.com/english/personal-care...\n",
       "category                                                personal-care\n",
       "sub_category                                          soap-bath-needs\n",
       "Name: 110, dtype: object"
      ]
     },
     "execution_count": 50,
     "metadata": {},
     "output_type": "execute_result"
    }
   ],
   "source": [
    "df.iloc[110] #has a problem with its link"
   ]
  },
  {
   "cell_type": "code",
   "execution_count": 51,
   "id": "6749d941",
   "metadata": {
    "scrolled": false
   },
   "outputs": [
    {
     "data": {
      "text/html": [
       "<div>\n",
       "<style scoped>\n",
       "    .dataframe tbody tr th:only-of-type {\n",
       "        vertical-align: middle;\n",
       "    }\n",
       "\n",
       "    .dataframe tbody tr th {\n",
       "        vertical-align: top;\n",
       "    }\n",
       "\n",
       "    .dataframe thead th {\n",
       "        text-align: right;\n",
       "    }\n",
       "</style>\n",
       "<table border=\"1\" class=\"dataframe\">\n",
       "  <thead>\n",
       "    <tr style=\"text-align: right;\">\n",
       "      <th></th>\n",
       "      <th>sub_sub_category</th>\n",
       "      <th>link</th>\n",
       "      <th>sub_category</th>\n",
       "    </tr>\n",
       "    <tr>\n",
       "      <th>category</th>\n",
       "      <th></th>\n",
       "      <th></th>\n",
       "      <th></th>\n",
       "    </tr>\n",
       "  </thead>\n",
       "  <tbody>\n",
       "    <tr>\n",
       "      <th>beauty-care2</th>\n",
       "      <td>49</td>\n",
       "      <td>49</td>\n",
       "      <td>49</td>\n",
       "    </tr>\n",
       "    <tr>\n",
       "      <th>health-wellness</th>\n",
       "      <td>1</td>\n",
       "      <td>1</td>\n",
       "      <td>1</td>\n",
       "    </tr>\n",
       "    <tr>\n",
       "      <th>health-wellness2</th>\n",
       "      <td>65</td>\n",
       "      <td>65</td>\n",
       "      <td>65</td>\n",
       "    </tr>\n",
       "    <tr>\n",
       "      <th>medicine-treatments</th>\n",
       "      <td>42</td>\n",
       "      <td>42</td>\n",
       "      <td>42</td>\n",
       "    </tr>\n",
       "    <tr>\n",
       "      <th>mom-and-baby-care</th>\n",
       "      <td>24</td>\n",
       "      <td>24</td>\n",
       "      <td>24</td>\n",
       "    </tr>\n",
       "    <tr>\n",
       "      <th>personal-care</th>\n",
       "      <td>41</td>\n",
       "      <td>41</td>\n",
       "      <td>41</td>\n",
       "    </tr>\n",
       "    <tr>\n",
       "      <th>vitamins-supplements</th>\n",
       "      <td>32</td>\n",
       "      <td>32</td>\n",
       "      <td>32</td>\n",
       "    </tr>\n",
       "  </tbody>\n",
       "</table>\n",
       "</div>"
      ],
      "text/plain": [
       "                      sub_sub_category  link  sub_category\n",
       "category                                                  \n",
       "beauty-care2                        49    49            49\n",
       "health-wellness                      1     1             1\n",
       "health-wellness2                    65    65            65\n",
       "medicine-treatments                 42    42            42\n",
       "mom-and-baby-care                   24    24            24\n",
       "personal-care                       41    41            41\n",
       "vitamins-supplements                32    32            32"
      ]
     },
     "execution_count": 51,
     "metadata": {},
     "output_type": "execute_result"
    }
   ],
   "source": [
    "df.groupby('category').count()"
   ]
  },
  {
   "cell_type": "code",
   "execution_count": 52,
   "id": "47f3099d",
   "metadata": {},
   "outputs": [],
   "source": [
    "df.iloc[110,-1]='oral-care'"
   ]
  },
  {
   "cell_type": "code",
   "execution_count": 53,
   "id": "7b3539da",
   "metadata": {
    "scrolled": false
   },
   "outputs": [
    {
     "data": {
      "text/html": [
       "<div>\n",
       "<style scoped>\n",
       "    .dataframe tbody tr th:only-of-type {\n",
       "        vertical-align: middle;\n",
       "    }\n",
       "\n",
       "    .dataframe tbody tr th {\n",
       "        vertical-align: top;\n",
       "    }\n",
       "\n",
       "    .dataframe thead th {\n",
       "        text-align: right;\n",
       "    }\n",
       "</style>\n",
       "<table border=\"1\" class=\"dataframe\">\n",
       "  <thead>\n",
       "    <tr style=\"text-align: right;\">\n",
       "      <th></th>\n",
       "      <th>link</th>\n",
       "      <th>category</th>\n",
       "      <th>sub_category</th>\n",
       "    </tr>\n",
       "    <tr>\n",
       "      <th>sub_sub_category</th>\n",
       "      <th></th>\n",
       "      <th></th>\n",
       "      <th></th>\n",
       "    </tr>\n",
       "  </thead>\n",
       "  <tbody>\n",
       "    <tr>\n",
       "      <th>Abdominal Support</th>\n",
       "      <td>1</td>\n",
       "      <td>1</td>\n",
       "      <td>1</td>\n",
       "    </tr>\n",
       "    <tr>\n",
       "      <th>Acne</th>\n",
       "      <td>1</td>\n",
       "      <td>1</td>\n",
       "      <td>1</td>\n",
       "    </tr>\n",
       "    <tr>\n",
       "      <th>Adult Diapers</th>\n",
       "      <td>1</td>\n",
       "      <td>1</td>\n",
       "      <td>1</td>\n",
       "    </tr>\n",
       "    <tr>\n",
       "      <th>Adult Pants</th>\n",
       "      <td>1</td>\n",
       "      <td>1</td>\n",
       "      <td>1</td>\n",
       "    </tr>\n",
       "    <tr>\n",
       "      <th>Adult Wipes</th>\n",
       "      <td>1</td>\n",
       "      <td>1</td>\n",
       "      <td>1</td>\n",
       "    </tr>\n",
       "    <tr>\n",
       "      <th>...</th>\n",
       "      <td>...</td>\n",
       "      <td>...</td>\n",
       "      <td>...</td>\n",
       "    </tr>\n",
       "    <tr>\n",
       "      <th>Whitening</th>\n",
       "      <td>1</td>\n",
       "      <td>1</td>\n",
       "      <td>1</td>\n",
       "    </tr>\n",
       "    <tr>\n",
       "      <th>Women's Best</th>\n",
       "      <td>1</td>\n",
       "      <td>1</td>\n",
       "      <td>1</td>\n",
       "    </tr>\n",
       "    <tr>\n",
       "      <th>Wound Care</th>\n",
       "      <td>1</td>\n",
       "      <td>1</td>\n",
       "      <td>1</td>\n",
       "    </tr>\n",
       "    <tr>\n",
       "      <th>Wounds &amp; Fractures Bandages</th>\n",
       "      <td>1</td>\n",
       "      <td>1</td>\n",
       "      <td>1</td>\n",
       "    </tr>\n",
       "    <tr>\n",
       "      <th>Wrist Support</th>\n",
       "      <td>1</td>\n",
       "      <td>1</td>\n",
       "      <td>1</td>\n",
       "    </tr>\n",
       "  </tbody>\n",
       "</table>\n",
       "<p>249 rows × 3 columns</p>\n",
       "</div>"
      ],
      "text/plain": [
       "                             link  category  sub_category\n",
       "sub_sub_category                                         \n",
       "Abdominal Support               1         1             1\n",
       "Acne                            1         1             1\n",
       "Adult Diapers                   1         1             1\n",
       "Adult Pants                     1         1             1\n",
       "Adult Wipes                     1         1             1\n",
       "...                           ...       ...           ...\n",
       "Whitening                       1         1             1\n",
       "Women's Best                    1         1             1\n",
       "Wound Care                      1         1             1\n",
       "Wounds & Fractures Bandages     1         1             1\n",
       "Wrist Support                   1         1             1\n",
       "\n",
       "[249 rows x 3 columns]"
      ]
     },
     "execution_count": 53,
     "metadata": {},
     "output_type": "execute_result"
    }
   ],
   "source": [
    "df.groupby('sub_sub_category').count()"
   ]
  },
  {
   "cell_type": "code",
   "execution_count": 54,
   "id": "01290f50",
   "metadata": {},
   "outputs": [
    {
     "data": {
      "text/plain": [
       "180                        Topical Pain Relief\n",
       "181                      Headache & Analgesics\n",
       "182                                  Analgesic\n",
       "183                            Cough Medicines\n",
       "184               Nasal Decongestant Medicines\n",
       "185                              Flu Medicines\n",
       "186                          Allergy Medicines\n",
       "187                      Sore Throat Medicines\n",
       "188                       Heart Burn Medicines\n",
       "189                                  Laxatives\n",
       "190                      Hemorrhoids Medicines\n",
       "191                               Stomach Ache\n",
       "192                        Flatulent Medicines\n",
       "193                 Kids Cough & Flu Medicines\n",
       "194                Kids Fever Relief Medicines\n",
       "195          Kids Nasal Decongestant Medicines\n",
       "196                                 Mouth Care\n",
       "197                          Local Anesthetics\n",
       "198                            Burn Treatments\n",
       "199                                 Wound Care\n",
       "200                                Emolliients\n",
       "201                               Wart Removal\n",
       "202                                 Analgesics\n",
       "203                      Antipyretic medicines\n",
       "204                            Ear medications\n",
       "205                     Eye drops & Lubricants\n",
       "206                              GIT Medicines\n",
       "207                             Gout medicines\n",
       "208         Heart and blood pressure medicines\n",
       "209                         Hormonal medicines\n",
       "210           Chemotherapy & Immunosuppresants\n",
       "211                        Impotence medicines\n",
       "212             Insulin And Diabetic Medicines\n",
       "213                         Kidney medications\n",
       "214    Osteoporosis and joint care medications\n",
       "215               Respiratory system medicines\n",
       "216                  Skin Topical Preparations\n",
       "217                Smoking cessation medicines\n",
       "218                  Urinary Tract Medications\n",
       "219                                   Vaccines\n",
       "220              Vitamins and food supplements\n",
       "221                          Other Medications\n",
       "Name: sub_sub_category, dtype: object"
      ]
     },
     "execution_count": 54,
     "metadata": {},
     "output_type": "execute_result"
    }
   ],
   "source": [
    "df[df['category']=='medicine-treatments']['sub_sub_category']"
   ]
  },
  {
   "cell_type": "code",
   "execution_count": 55,
   "id": "ae828c96",
   "metadata": {},
   "outputs": [],
   "source": [
    "df.to_csv('dawaa sub_sub_links.csv')"
   ]
  },
  {
   "cell_type": "code",
   "execution_count": 56,
   "id": "5f943043",
   "metadata": {},
   "outputs": [],
   "source": [
    "df=pd.read_csv('dawaa sub_sub_links.csv')"
   ]
  },
  {
   "cell_type": "markdown",
   "id": "c35e2e07",
   "metadata": {},
   "source": [
    "# one product test "
   ]
  },
  {
   "cell_type": "code",
   "execution_count": 57,
   "id": "fcf65667",
   "metadata": {},
   "outputs": [],
   "source": [
    "r = requests.get('https://www.al-dawaa.com/arabic/bepanthene-plus-cream-30-gm.html')\n",
    "soup = BeautifulSoup(r.text,'html.parser')\n",
    "\n",
    "product=dict(\n",
    "                title = soup.find(class_='base').text.strip(),\n",
    "                price= ','.join(re.findall(r'\\d+', soup.find(class_='price-container price-final_price tax weee').text.strip())),\n",
    "#                 sku = ''.join(re.findall(r'\\d+',soup.find(class_='valuesku').text.strip())),\n",
    "                specifications = soup.find(class_='product attribute description').text.strip(),\n",
    "                details = soup.find(class_='additional-attributes-wrapper table-wrapper').text.strip(),\n",
    "                #lang=link.split('/')[3],\n",
    "                product_url = link,\n",
    "                image_url=soup.find(class_='gallery-placeholder _block-content-loading').find('img').attrs['src']\n",
    "            )\n"
   ]
  },
  {
   "cell_type": "code",
   "execution_count": 58,
   "id": "5b2a2da8",
   "metadata": {},
   "outputs": [],
   "source": [
    "url='https://www.al-dawaa.com/english/mom-and-baby-care/baby-diapers-potty-training/taped-diapers'\n",
    "r = requests.get(url)\n",
    "soup = BeautifulSoup(r.text,'html.parser')"
   ]
  },
  {
   "cell_type": "code",
   "execution_count": 59,
   "id": "f9a651e8",
   "metadata": {},
   "outputs": [
    {
     "name": "stdout",
     "output_type": "stream",
     "text": [
      "\n",
      "Home\n",
      "\n",
      "\n",
      "Mum And Baby\n",
      "\n",
      "\n",
      "Baby Diapers & Potty Training\n",
      "\n",
      "\n",
      "Taped Diapers\n",
      "\n"
     ]
    },
    {
     "data": {
      "text/plain": [
       "['Mum And Baby', 'Baby Diapers & Potty Training', 'Taped Diapers']"
      ]
     },
     "execution_count": 59,
     "metadata": {},
     "output_type": "execute_result"
    }
   ],
   "source": [
    "category=[]\n",
    "for item in soup.select_one('ul.items').select('li'):\n",
    "    category.append(item.text.strip())\n",
    "    print(item.text)\n",
    "category[1:]"
   ]
  },
  {
   "cell_type": "code",
   "execution_count": 60,
   "id": "b7dc0442",
   "metadata": {},
   "outputs": [],
   "source": [
    "# product"
   ]
  },
  {
   "cell_type": "code",
   "execution_count": 61,
   "id": "f12d2bcc",
   "metadata": {},
   "outputs": [],
   "source": [
    "# with open('text.txt', 'w', encoding='utf-8-sig') as f:\n",
    "#     f.write(details)"
   ]
  },
  {
   "cell_type": "code",
   "execution_count": 62,
   "id": "849c5b06",
   "metadata": {},
   "outputs": [
    {
     "data": {
      "text/plain": [
       "'mom-and-baby-care/baby-diapers-potty-training/taped-diapers'"
      ]
     },
     "execution_count": 62,
     "metadata": {},
     "output_type": "execute_result"
    }
   ],
   "source": [
    "url='https://www.al-dawaa.com/english/mom-and-baby-care/baby-diapers-potty-training/taped-diapers'\n",
    "url=url.split('/')[4:]\n",
    "url='/'.join(url)\n",
    "url"
   ]
  },
  {
   "cell_type": "code",
   "execution_count": 63,
   "id": "d58b596b",
   "metadata": {
    "scrolled": true
   },
   "outputs": [],
   "source": [
    "def get_product_urls(link_u):\n",
    "\n",
    "    request= requests.get(link_u)\n",
    "    soup=BeautifulSoup(request.content,'lxml')\n",
    "    \n",
    "    n_pages=soup.select_one('#am-page-count').text #number of pages\n",
    "#   number_products = soup.find_all(class_='toolbar-number')\n",
    "    print('number of pages in this subcategory: ',n_pages)\n",
    "    \n",
    "    product_urls=[]\n",
    "    for page_num in range(1,int(n_pages)+1):\n",
    "        print(page_num)\n",
    "        request = requests.get(link_u+f'?p={page_num}')\n",
    "        soup = BeautifulSoup(request.content,'lxml')\n",
    "        product_items=soup.find_all(class_='item product product-item')\n",
    "        for product_block in product_items:\n",
    "            prod_url = product_block.find('a').attrs['href']\n",
    "            product_urls.append(prod_url)\n",
    "            print(prod_url)\n",
    "        print(\"number of products found\",len(product_urls))\n",
    "    return product_urls"
   ]
  },
  {
   "cell_type": "code",
   "execution_count": 64,
   "id": "5d03ca75",
   "metadata": {},
   "outputs": [],
   "source": [
    "# input: link of product,category,sub-categor,sub-sub-category\n",
    "# dict with the product information \n",
    "def product_info(link_p,cat,sub_cat,sub_sub_cat):\n",
    "    r = requests.get(link_p)\n",
    "    soup = BeautifulSoup(r.text,'html.parser')\n",
    "    print(link_p)\n",
    "    \n",
    "    try:\n",
    "        details_=soup.find(class_='additional-attributes-wrapper table-wrapper').text.strip()\n",
    "    except:\n",
    "        details_=''\n",
    "    try:\n",
    "        specifications_ = soup.find(class_='product attribute description').text.strip()\n",
    "    except:\n",
    "        specifications_=''\n",
    "\n",
    "    try:\n",
    "        product=dict(\n",
    "                    category=cat,\n",
    "                    sub_category=sub_cat,\n",
    "                    sub_sub_cat=sub_sub_cat,\n",
    "                    title = soup.find(class_='base').text.strip(),\n",
    "                    price= ','.join(re.findall(r'\\d+', soup.find(class_='price-container price-final_price tax weee').text.strip())),\n",
    "                    specifications = specifications_,\n",
    "                    details = details_,\n",
    "                    lang=link_p.split('/')[3],\n",
    "                    product_url = link_p,\n",
    "                    image_url=soup.find(class_='gallery-placeholder _block-content-loading').find('img').attrs['src'],\n",
    "                    product_key=link_p.split('/')[4:]\n",
    "\n",
    "                    )\n",
    "    except Exception as e:\n",
    "        product=dict(\n",
    "                    category=cat,\n",
    "                    sub_category=sub_cat,\n",
    "                    sub_sub_cat=sub_sub_cat,\n",
    "                    title = '',\n",
    "                    price= '',\n",
    "                    specifications = '',\n",
    "                    details = '',\n",
    "                    lang='',\n",
    "                    product_url = link_p,\n",
    "                    image_url='',\n",
    "                    product_key=link_p.split('/')[4:]\n",
    "                    )\n",
    "        print('error with link:',link_p)\n",
    "        print(e)\n",
    "        print(soup)\n",
    "    return product   "
   ]
  },
  {
   "cell_type": "code",
   "execution_count": 66,
   "id": "f1364406",
   "metadata": {},
   "outputs": [],
   "source": [
    "def scrape_product(url_s):\n",
    "    link_s=url_s.split('/')[4:]\n",
    "    link_s='/'.join(link_s)\n",
    "    link_ar = base_ar+link_s\n",
    "    link_en = base_en+link_s\n",
    "    file.append(product_info(link_ar,category_ar,sub_category_ar,sub_sub_category_ar))\n",
    "    file.append(product_info(link_en,category_en,sub_category_en,sub_sub_category_en))"
   ]
  },
  {
   "cell_type": "code",
   "execution_count": 67,
   "id": "4e3319c3",
   "metadata": {},
   "outputs": [],
   "source": [
    "def save_image(image_file):\n",
    "    counter=0\n",
    "    \n",
    "    \n",
    "    for i in range(len(image_file)):\n",
    "        #print(\"i:  \",i)\n",
    "\n",
    "        if image_file['image_url'][i] == 'out of stock':\n",
    "            print('product out of stock and has no image')\n",
    "        else: \n",
    "            path=\"Eldawaa/{}/{}/{}\".format(image_file['category'][i],image_file['sub_category'][i],image_file['sub_sub_cat'][i])\n",
    "            if not os.path.exists(path):\n",
    "                os.makedirs(path)\n",
    "            \n",
    "\n",
    "            img_name = image_file['title'][i].replace(\"\\n\",\"\").replace(\"/\",u'\\u2215').replace('*','x').replace('<','-').replace('\\\\',u'\\u2215').strip()\n",
    "            full_path=path+\"/\"+r'{}'.format(img_name)+\".jpg\"\n",
    "            if  os.path.exists(full_path):\n",
    "                continue\n",
    "            \n",
    "            try:\n",
    "                res = requests.get(image_file['image_url'][i].strip(), stream = True)\n",
    "                if res.status_code == 200:\n",
    "                    with open(full_path,'wb') as f:\n",
    "                        shutil.copyfileobj(res.raw, f)\n",
    "                    print('Image sucessfully Downloaded: ',full_path)\n",
    "                else:\n",
    "                    print('Image Couldn\\'t be retrieved')\n",
    "            except:\n",
    "                print('error occured downloading this image',image_file['image_url'][i])\n",
    "#             img_x=urllib.request.urlretrieve(image_file['image_url'][i].strip(),full_path)\n",
    "#             print(full_path)\n",
    "\n",
    "            counter+=1\n",
    "            print(counter)\n",
    "    print(\"image saved:\", counter)"
   ]
  },
  {
   "cell_type": "code",
   "execution_count": 68,
   "id": "d6e65473",
   "metadata": {},
   "outputs": [],
   "source": [
    "def get_category(url_c):\n",
    "    category=[]\n",
    "    request= requests.get(url_c)\n",
    "    soup=BeautifulSoup(request.content,'lxml')\n",
    "    for item in soup.select_one('ul.items').select('li'):\n",
    "        category.append(item.text.strip())\n",
    "    print(category)\n",
    "    return category[1:]"
   ]
  },
  {
   "cell_type": "code",
   "execution_count": null,
   "id": "19e2ffbb",
   "metadata": {
    "scrolled": true
   },
   "outputs": [],
   "source": [
    "# to run the scrapper:\n",
    "for i in range(len(df)):\n",
    "    print('scraping sub_catgory no.',i+1)\n",
    "    file=[]\n",
    "    languages=['arabic','english']\n",
    "    \n",
    "    link=df['link'][i].split('/')[4:]\n",
    "    link='/'.join(link)\n",
    "\n",
    "    url_ar=base_ar+link\n",
    "    url_en=base_en+link\n",
    "\n",
    "    category_ar = category_[0]\n",
    "    sub_category_ar = category_[1]\n",
    "    sub_sub_category_ar = category_[2]\n",
    "    \n",
    "    category_=get_category(url_en)\n",
    "    category_en = category_[0]\n",
    "    sub_category_en = category_[1]\n",
    "    sub_sub_category_en = category_[2]\n",
    "    #check if the sub category has products:\n",
    "    \n",
    "    try:\n",
    "        request= requests.get(url_ar)\n",
    "        soup=BeautifulSoup(request.content,'lxml')\n",
    "        n_pages=soup.select_one('#am-page-count').text #number of pages\n",
    "    except:\n",
    "        print(\"this link has no products:\",url_ar)\n",
    "        continue\n",
    "        \n",
    "    product_urls = get_product_urls(df['link'][i])\n",
    "        \n",
    "    count_products = len(product_urls)\n",
    "\n",
    "    category_en= category_[0]\n",
    "    sub_category_en= category_[1]\n",
    "    sub_sub_category_en= category_[2]\n",
    "\n",
    "\n",
    "    with concurrent.futures.ThreadPoolExecutor() as executor:\n",
    "        results =concurrent.futures.wait([executor.submit(scrape_product, url) for url in product_urls])\n",
    "\n",
    "    for result in results.done:\n",
    "        if result.exception() is not None:\n",
    "            raise result.exception()\n",
    "            \n",
    "    path='dawaa_excel/{}/'.format(category_en)       \n",
    "    if not os.path.exists(path):\n",
    "        os.makedirs(path)\n",
    "    \n",
    "    full_path= path+'{}_{}.xlsx'.format(category_en,sub_sub_category_en)\n",
    "    file_=pd.DataFrame(file)\n",
    "    file_.to_excel(full_path,encoding='utf-8-sig',index=False)\n",
    "    \n",
    "    print('{} all product scraped'.format(df['sub_sub_category'][i]))\n",
    "    print('done scraping sub_catgory no.{} with {} products'.format(i+1,count_products*2))\n",
    "\n",
    "    save_image(file_)"
   ]
  },
  {
   "cell_type": "markdown",
   "id": "1fe4a83e",
   "metadata": {},
   "source": [
    "## some links has errors needs special treatmet"
   ]
  },
  {
   "cell_type": "code",
   "execution_count": null,
   "id": "f4de95e4",
   "metadata": {},
   "outputs": [],
   "source": [
    "# df['link'][3]--> https://www.al-dawaa.com/english/mom-and-baby-care/baby-diapers-potty-training/potty-training\n",
    "#'https://www.al-dawaa.com/arabic/beauty-care/hair-care/damaged-dry-hair'\n",
    "#'https://www.al-dawaa.com/english/mom-and-baby-care/maternity-needs/maternity-belt'  20\n",
    "#'https://www.al-dawaa.com/arabic/catalogsearch/result/?q=revlon+lip+finity+matte+fierce265&amnoroute'\n",
    "#'https://www.al-dawaa.com/arabic/beauty-care/make-up-accessories/artificial-nails'\n",
    "#'https://www.al-dawaa.com/arabic/dr-beckmann-in-wash-stain-remover-3-40-gm.html'\n",
    "\n",
    "\n",
    "# https://www.al-dawaa.com/english/medicine-treatments/skin-treatments/burn-treatments\n",
    "#     https://www.al-dawaa.com/english/vitamins-supplements/shop-by-health-concern/diabetic-supplements\n",
    "#         https://www.al-dawaa.com/arabic/dymatize-iso-100-protein-cookies-cream-23kg.html"
   ]
  }
 ],
 "metadata": {
  "kernelspec": {
   "display_name": "base",
   "language": "python",
   "name": "python3"
  },
  "language_info": {
   "codemirror_mode": {
    "name": "ipython",
    "version": 3
   },
   "file_extension": ".py",
   "mimetype": "text/x-python",
   "name": "python",
   "nbconvert_exporter": "python",
   "pygments_lexer": "ipython3",
   "version": "3.8.8"
  },
  "vscode": {
   "interpreter": {
    "hash": "5bd6d4561d2a1e9659683214ab0266394e3c81de285072ad142e55d74ac29db9"
   }
  }
 },
 "nbformat": 4,
 "nbformat_minor": 5
}
